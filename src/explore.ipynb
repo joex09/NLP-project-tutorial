{
    "cells": [
        {
            "cell_type": "markdown",
            "metadata": {},
            "source": [
                "# NLP"
            ]
        },
        {
            "cell_type": "code",
            "execution_count": 2,
            "metadata": {},
            "outputs": [],
            "source": [
                "import pandas as pd \n",
                "import regex as reg\n",
                "import re\n",
                "import matplotlib.pyplot as plt\n",
                "import unicodedata\n",
                "import nltk\n",
                "import string\n",
                "import pickle\n",
                "\n",
                "from sklearn.feature_extraction.text import CountVectorizer\n",
                "from sklearn.model_selection import train_test_split\n",
                "from sklearn.naive_bayes import MultinomialNB\n",
                "from sklearn import model_selection, svm\n",
                "from sklearn.metrics import classification_report, accuracy_score\n",
                "\n",
                "from nltk.corpus import stopwords"
            ]
        },
        {
            "cell_type": "code",
            "execution_count": 3,
            "metadata": {},
            "outputs": [],
            "source": [
                "df = pd.read_csv('https://raw.githubusercontent.com/4GeeksAcademy/NLP-project-tutorial/main/url_spam.csv')"
            ]
        },
        {
            "cell_type": "code",
            "execution_count": 4,
            "metadata": {},
            "outputs": [
                {
                    "data": {
                        "text/html": [
                            "<div>\n",
                            "<style scoped>\n",
                            "    .dataframe tbody tr th:only-of-type {\n",
                            "        vertical-align: middle;\n",
                            "    }\n",
                            "\n",
                            "    .dataframe tbody tr th {\n",
                            "        vertical-align: top;\n",
                            "    }\n",
                            "\n",
                            "    .dataframe thead th {\n",
                            "        text-align: right;\n",
                            "    }\n",
                            "</style>\n",
                            "<table border=\"1\" class=\"dataframe\">\n",
                            "  <thead>\n",
                            "    <tr style=\"text-align: right;\">\n",
                            "      <th></th>\n",
                            "      <th>url</th>\n",
                            "      <th>is_spam</th>\n",
                            "    </tr>\n",
                            "  </thead>\n",
                            "  <tbody>\n",
                            "    <tr>\n",
                            "      <th>1243</th>\n",
                            "      <td>https://www.usatoday.com/story/news/politics/2...</td>\n",
                            "      <td>False</td>\n",
                            "    </tr>\n",
                            "    <tr>\n",
                            "      <th>1854</th>\n",
                            "      <td>https://www.morningbrew.com/daily/stories/2020...</td>\n",
                            "      <td>False</td>\n",
                            "    </tr>\n",
                            "    <tr>\n",
                            "      <th>2560</th>\n",
                            "      <td>https://apnews.com/b50a256d97b7199ea2e8b0530c2...</td>\n",
                            "      <td>False</td>\n",
                            "    </tr>\n",
                            "    <tr>\n",
                            "      <th>980</th>\n",
                            "      <td>https://news.trust.org/item/20200624154945-q8zfe/</td>\n",
                            "      <td>False</td>\n",
                            "    </tr>\n",
                            "    <tr>\n",
                            "      <th>1221</th>\n",
                            "      <td>https://www.coronavirus.gov/</td>\n",
                            "      <td>True</td>\n",
                            "    </tr>\n",
                            "    <tr>\n",
                            "      <th>144</th>\n",
                            "      <td>https://www.ft.com/content/eae603a4-a369-4801-...</td>\n",
                            "      <td>False</td>\n",
                            "    </tr>\n",
                            "    <tr>\n",
                            "      <th>1540</th>\n",
                            "      <td>https://briefingday.com/m/v4n3i4f3</td>\n",
                            "      <td>True</td>\n",
                            "    </tr>\n",
                            "    <tr>\n",
                            "      <th>85</th>\n",
                            "      <td>https://www.wired.co.uk/article/coronavirus-be...</td>\n",
                            "      <td>False</td>\n",
                            "    </tr>\n",
                            "    <tr>\n",
                            "      <th>539</th>\n",
                            "      <td>https://bigspaceship.us9.list-manage.com/unsub...</td>\n",
                            "      <td>True</td>\n",
                            "    </tr>\n",
                            "    <tr>\n",
                            "      <th>755</th>\n",
                            "      <td>https://www.marketwatch.com/story/dow-futures-...</td>\n",
                            "      <td>False</td>\n",
                            "    </tr>\n",
                            "  </tbody>\n",
                            "</table>\n",
                            "</div>"
                        ],
                        "text/plain": [
                            "                                                    url  is_spam\n",
                            "1243  https://www.usatoday.com/story/news/politics/2...    False\n",
                            "1854  https://www.morningbrew.com/daily/stories/2020...    False\n",
                            "2560  https://apnews.com/b50a256d97b7199ea2e8b0530c2...    False\n",
                            "980   https://news.trust.org/item/20200624154945-q8zfe/    False\n",
                            "1221                       https://www.coronavirus.gov/     True\n",
                            "144   https://www.ft.com/content/eae603a4-a369-4801-...    False\n",
                            "1540                 https://briefingday.com/m/v4n3i4f3     True\n",
                            "85    https://www.wired.co.uk/article/coronavirus-be...    False\n",
                            "539   https://bigspaceship.us9.list-manage.com/unsub...     True\n",
                            "755   https://www.marketwatch.com/story/dow-futures-...    False"
                        ]
                    },
                    "execution_count": 4,
                    "metadata": {},
                    "output_type": "execute_result"
                }
            ],
            "source": [
                "df.sample(10)"
            ]
        },
        {
            "cell_type": "code",
            "execution_count": 5,
            "metadata": {},
            "outputs": [
                {
                    "name": "stdout",
                    "output_type": "stream",
                    "text": [
                        "<class 'pandas.core.frame.DataFrame'>\n",
                        "RangeIndex: 2999 entries, 0 to 2998\n",
                        "Data columns (total 2 columns):\n",
                        " #   Column   Non-Null Count  Dtype \n",
                        "---  ------   --------------  ----- \n",
                        " 0   url      2999 non-null   object\n",
                        " 1   is_spam  2999 non-null   bool  \n",
                        "dtypes: bool(1), object(1)\n",
                        "memory usage: 26.5+ KB\n"
                    ]
                }
            ],
            "source": [
                "df.info()"
            ]
        },
        {
            "cell_type": "code",
            "execution_count": 6,
            "metadata": {},
            "outputs": [
                {
                    "data": {
                        "text/html": [
                            "<div>\n",
                            "<style scoped>\n",
                            "    .dataframe tbody tr th:only-of-type {\n",
                            "        vertical-align: middle;\n",
                            "    }\n",
                            "\n",
                            "    .dataframe tbody tr th {\n",
                            "        vertical-align: top;\n",
                            "    }\n",
                            "\n",
                            "    .dataframe thead th {\n",
                            "        text-align: right;\n",
                            "    }\n",
                            "</style>\n",
                            "<table border=\"1\" class=\"dataframe\">\n",
                            "  <thead>\n",
                            "    <tr style=\"text-align: right;\">\n",
                            "      <th></th>\n",
                            "      <th>url</th>\n",
                            "      <th>is_spam</th>\n",
                            "    </tr>\n",
                            "  </thead>\n",
                            "  <tbody>\n",
                            "    <tr>\n",
                            "      <th>count</th>\n",
                            "      <td>2999</td>\n",
                            "      <td>2999</td>\n",
                            "    </tr>\n",
                            "    <tr>\n",
                            "      <th>unique</th>\n",
                            "      <td>2369</td>\n",
                            "      <td>2</td>\n",
                            "    </tr>\n",
                            "    <tr>\n",
                            "      <th>top</th>\n",
                            "      <td>https://www.bloomberg.com/tosv2.html</td>\n",
                            "      <td>False</td>\n",
                            "    </tr>\n",
                            "    <tr>\n",
                            "      <th>freq</th>\n",
                            "      <td>26</td>\n",
                            "      <td>2303</td>\n",
                            "    </tr>\n",
                            "  </tbody>\n",
                            "</table>\n",
                            "</div>"
                        ],
                        "text/plain": [
                            "                                         url is_spam\n",
                            "count                                   2999    2999\n",
                            "unique                                  2369       2\n",
                            "top     https://www.bloomberg.com/tosv2.html   False\n",
                            "freq                                      26    2303"
                        ]
                    },
                    "execution_count": 6,
                    "metadata": {},
                    "output_type": "execute_result"
                }
            ],
            "source": [
                "df.describe()"
            ]
        },
        {
            "cell_type": "code",
            "execution_count": 7,
            "metadata": {},
            "outputs": [],
            "source": [
                "df['is_spam'] = df['is_spam'].apply(lambda x: 1 if x == True else 0)"
            ]
        },
        {
            "cell_type": "code",
            "execution_count": 8,
            "metadata": {},
            "outputs": [
                {
                    "data": {
                        "text/plain": [
                            "0    2303\n",
                            "1     696\n",
                            "Name: is_spam, dtype: int64"
                        ]
                    },
                    "execution_count": 8,
                    "metadata": {},
                    "output_type": "execute_result"
                }
            ],
            "source": [
                "df['is_spam'].value_counts()"
            ]
        },
        {
            "cell_type": "code",
            "execution_count": 9,
            "metadata": {},
            "outputs": [
                {
                    "data": {
                        "text/plain": [
                            "(2369, 2)"
                        ]
                    },
                    "execution_count": 9,
                    "metadata": {},
                    "output_type": "execute_result"
                }
            ],
            "source": [
                "df = df.drop_duplicates()\n",
                "df = df.reset_index(inplace = False)[['url','is_spam']]\n",
                "df.shape"
            ]
        },
        {
            "cell_type": "code",
            "execution_count": 10,
            "metadata": {},
            "outputs": [],
            "source": [
                "df['url'] = df['url'].str.lower()"
            ]
        },
        {
            "cell_type": "code",
            "execution_count": 11,
            "metadata": {},
            "outputs": [],
            "source": [
                "data = df.copy()"
            ]
        },
        {
            "cell_type": "code",
            "execution_count": 12,
            "metadata": {},
            "outputs": [
                {
                    "data": {
                        "text/html": [
                            "<div>\n",
                            "<style scoped>\n",
                            "    .dataframe tbody tr th:only-of-type {\n",
                            "        vertical-align: middle;\n",
                            "    }\n",
                            "\n",
                            "    .dataframe tbody tr th {\n",
                            "        vertical-align: top;\n",
                            "    }\n",
                            "\n",
                            "    .dataframe thead th {\n",
                            "        text-align: right;\n",
                            "    }\n",
                            "</style>\n",
                            "<table border=\"1\" class=\"dataframe\">\n",
                            "  <thead>\n",
                            "    <tr style=\"text-align: right;\">\n",
                            "      <th></th>\n",
                            "      <th>url</th>\n",
                            "      <th>is_spam</th>\n",
                            "    </tr>\n",
                            "  </thead>\n",
                            "  <tbody>\n",
                            "    <tr>\n",
                            "      <th>0</th>\n",
                            "      <td>https briefingday us list manage com unsubscribe</td>\n",
                            "      <td>1</td>\n",
                            "    </tr>\n",
                            "    <tr>\n",
                            "      <th>1</th>\n",
                            "      <td>https www hvper com</td>\n",
                            "      <td>1</td>\n",
                            "    </tr>\n",
                            "    <tr>\n",
                            "      <th>2</th>\n",
                            "      <td>https briefingday com m v n i f</td>\n",
                            "      <td>1</td>\n",
                            "    </tr>\n",
                            "    <tr>\n",
                            "      <th>3</th>\n",
                            "      <td>https briefingday com n m commentform</td>\n",
                            "      <td>0</td>\n",
                            "    </tr>\n",
                            "    <tr>\n",
                            "      <th>4</th>\n",
                            "      <td>https briefingday com fan</td>\n",
                            "      <td>1</td>\n",
                            "    </tr>\n",
                            "  </tbody>\n",
                            "</table>\n",
                            "</div>"
                        ],
                        "text/plain": [
                            "                                                url  is_spam\n",
                            "0  https briefingday us list manage com unsubscribe        1\n",
                            "1                              https www hvper com         1\n",
                            "2                  https briefingday com m v n i f         1\n",
                            "3             https briefingday com n m commentform        0\n",
                            "4                         https briefingday com fan        1"
                        ]
                    },
                    "execution_count": 12,
                    "metadata": {},
                    "output_type": "execute_result"
                }
            ],
            "source": [
                "cleaner = []\n",
                "\n",
                "for p in range(len(data.url)):\n",
                "    desc = data['url'][p]\n",
                "    \n",
                "    desc = re.sub('[^a-zA-Z]', ' ', desc)\n",
                "    \n",
                "    desc=re.sub(\"&lt;/?.*?&gt;\",\" &lt;&gt; \",desc)\n",
                "    \n",
                "    desc=re.sub(\"(\\\\d|\\\\W)+\",\" \",desc)\n",
                "    \n",
                "    cleaner.append(desc)\n",
                "\n",
                "data['url'] = cleaner\n",
                "        \n",
                "data.head()"
            ]
        },
        {
            "cell_type": "code",
            "execution_count": 13,
            "metadata": {},
            "outputs": [
                {
                    "data": {
                        "text/plain": [
                            "https          2336\n",
                            "com            2065\n",
                            "www            1512\n",
                            "the             354\n",
                            "html            296\n",
                            "news            274\n",
                            "a               252\n",
                            "us              248\n",
                            "to              218\n",
                            "of              173\n",
                            "coronavirus     172\n",
                            "e               150\n",
                            "org             146\n",
                            "c               136\n",
                            "article         131\n",
                            "b               124\n",
                            "in              115\n",
                            "and             113\n",
                            "morningbrew     105\n",
                            "story           105\n",
                            "nytimes         101\n",
                            "on              101\n",
                            "daily            99\n",
                            "d                98\n",
                            "stories          94\n",
                            "utm              90\n",
                            "for              90\n",
                            "youtube          89\n",
                            "v                89\n",
                            "trump            88\n",
                            "numlock          87\n",
                            "watch            86\n",
                            "f                78\n",
                            "is               77\n",
                            "new              76\n",
                            "p                69\n",
                            "world            68\n",
                            "substack         68\n",
                            "reuters          65\n",
                            "covid            63\n",
                            "s                62\n",
                            "briefingday      61\n",
                            "index            61\n",
                            "vox              59\n",
                            "en               59\n",
                            "articles         58\n",
                            "cnn              58\n",
                            "iduskbn          58\n",
                            "politics         56\n",
                            "co               56\n",
                            "n                54\n",
                            "cnbc             54\n",
                            "sunday           51\n",
                            "business         49\n",
                            "court            48\n",
                            "apnews           47\n",
                            "u                46\n",
                            "facebook         46\n",
                            "email            46\n",
                            "health           45\n",
                            "dtype: int64"
                        ]
                    },
                    "execution_count": 13,
                    "metadata": {},
                    "output_type": "execute_result"
                }
            ],
            "source": [
                "data['url'].str.split(expand=True).stack().value_counts()[:60]"
            ]
        },
        {
            "cell_type": "code",
            "execution_count": 14,
            "metadata": {},
            "outputs": [],
            "source": [
                "stop_words = ['http','www','com','you','your','for','not','have','is','in','im','from','to','https','e','c','v','b','f','p']"
            ]
        },
        {
            "cell_type": "code",
            "execution_count": 15,
            "metadata": {},
            "outputs": [],
            "source": [
                "for i in data['url'].str.split(expand=True).stack().value_counts().index:\n",
                "    if len(i)<3 :\n",
                "        stop_words.append(i)"
            ]
        },
        {
            "cell_type": "code",
            "execution_count": 16,
            "metadata": {},
            "outputs": [
                {
                    "data": {
                        "text/plain": [
                            "268"
                        ]
                    },
                    "execution_count": 16,
                    "metadata": {},
                    "output_type": "execute_result"
                }
            ],
            "source": [
                "stop_words=list(set(stop_words))\n",
                "len(stop_words)"
            ]
        },
        {
            "cell_type": "code",
            "execution_count": 17,
            "metadata": {},
            "outputs": [],
            "source": [
                "def remove_stopwords(message):\n",
                "  if message is not None:\n",
                "    words = message.strip().split()\n",
                "    words_filtered = []\n",
                "    for word in words:\n",
                "      if word not in stop_words:\n",
                "        words_filtered.append(word) \n",
                "    result = \" \".join(words_filtered)         \n",
                "  else:\n",
                "    result = None\n",
                "\n",
                "  return result "
            ]
        },
        {
            "cell_type": "code",
            "execution_count": 18,
            "metadata": {},
            "outputs": [],
            "source": [
                "data['url']=data['url'].apply(remove_stopwords)"
            ]
        },
        {
            "cell_type": "code",
            "execution_count": 19,
            "metadata": {},
            "outputs": [
                {
                    "data": {
                        "text/html": [
                            "<div>\n",
                            "<style scoped>\n",
                            "    .dataframe tbody tr th:only-of-type {\n",
                            "        vertical-align: middle;\n",
                            "    }\n",
                            "\n",
                            "    .dataframe tbody tr th {\n",
                            "        vertical-align: top;\n",
                            "    }\n",
                            "\n",
                            "    .dataframe thead th {\n",
                            "        text-align: right;\n",
                            "    }\n",
                            "</style>\n",
                            "<table border=\"1\" class=\"dataframe\">\n",
                            "  <thead>\n",
                            "    <tr style=\"text-align: right;\">\n",
                            "      <th></th>\n",
                            "      <th>url</th>\n",
                            "      <th>is_spam</th>\n",
                            "    </tr>\n",
                            "  </thead>\n",
                            "  <tbody>\n",
                            "    <tr>\n",
                            "      <th>2285</th>\n",
                            "      <td>wikipedia org wiki goodhart law</td>\n",
                            "      <td>0</td>\n",
                            "    </tr>\n",
                            "    <tr>\n",
                            "      <th>1317</th>\n",
                            "      <td>wired article mask shaming</td>\n",
                            "      <td>0</td>\n",
                            "    </tr>\n",
                            "    <tr>\n",
                            "      <th>1579</th>\n",
                            "      <td>morningbrew daily stories practice selling buy...</td>\n",
                            "      <td>0</td>\n",
                            "    </tr>\n",
                            "    <tr>\n",
                            "      <th>277</th>\n",
                            "      <td>inverse mind body the first stay home dad</td>\n",
                            "      <td>0</td>\n",
                            "    </tr>\n",
                            "    <tr>\n",
                            "      <th>1037</th>\n",
                            "      <td>axios aca enrollment coronavirus html</td>\n",
                            "      <td>0</td>\n",
                            "    </tr>\n",
                            "  </tbody>\n",
                            "</table>\n",
                            "</div>"
                        ],
                        "text/plain": [
                            "                                                    url  is_spam\n",
                            "2285                    wikipedia org wiki goodhart law        0\n",
                            "1317                         wired article mask shaming        0\n",
                            "1579  morningbrew daily stories practice selling buy...        0\n",
                            "277           inverse mind body the first stay home dad        0\n",
                            "1037              axios aca enrollment coronavirus html        0"
                        ]
                    },
                    "execution_count": 19,
                    "metadata": {},
                    "output_type": "execute_result"
                }
            ],
            "source": [
                "data.sample(5)"
            ]
        },
        {
            "cell_type": "code",
            "execution_count": 20,
            "metadata": {},
            "outputs": [
                {
                    "data": {
                        "text/plain": [
                            "the            354\n",
                            "html           296\n",
                            "news           274\n",
                            "coronavirus    172\n",
                            "org            146\n",
                            "article        131\n",
                            "and            113\n",
                            "morningbrew    105\n",
                            "story          105\n",
                            "nytimes        101\n",
                            "daily           99\n",
                            "stories         94\n",
                            "utm             90\n",
                            "youtube         89\n",
                            "trump           88\n",
                            "numlock         87\n",
                            "watch           86\n",
                            "new             76\n",
                            "substack        68\n",
                            "world           68\n",
                            "reuters         65\n",
                            "covid           63\n",
                            "briefingday     61\n",
                            "index           61\n",
                            "vox             59\n",
                            "cnn             58\n",
                            "articles        58\n",
                            "iduskbn         58\n",
                            "politics        56\n",
                            "cnbc            54\n",
                            "sunday          51\n",
                            "business        49\n",
                            "court           48\n",
                            "apnews          47\n",
                            "email           46\n",
                            "facebook        46\n",
                            "health          45\n",
                            "bbc             41\n",
                            "supreme         41\n",
                            "blog            40\n",
                            "are             40\n",
                            "black           39\n",
                            "medium          39\n",
                            "npr             38\n",
                            "police          38\n",
                            "digg            37\n",
                            "campaign        37\n",
                            "with            37\n",
                            "why             36\n",
                            "theverge        35\n",
                            "apple           35\n",
                            "cases           35\n",
                            "theguardian     35\n",
                            "how             34\n",
                            "source          34\n",
                            "live            34\n",
                            "what            33\n",
                            "jun             32\n",
                            "tech            31\n",
                            "video           31\n",
                            "dtype: int64"
                        ]
                    },
                    "execution_count": 20,
                    "metadata": {},
                    "output_type": "execute_result"
                }
            ],
            "source": [
                "data['url'].str.split(expand=True).stack().value_counts()[:60]"
            ]
        },
        {
            "cell_type": "code",
            "execution_count": 22,
            "metadata": {},
            "outputs": [],
            "source": [
                "X = data['url']\n",
                "y = data['is_spam']\n",
                "X_train, X_test, y_train, y_test = train_test_split(X,y,stratify=y,random_state=123)"
            ]
        },
        {
            "cell_type": "code",
            "execution_count": 23,
            "metadata": {},
            "outputs": [],
            "source": [
                "vec = CountVectorizer(stop_words='english')\n",
                "X_train = vec.fit_transform(X_train).toarray()\n",
                "X_test = vec.transform(X_test).toarray()"
            ]
        },
        {
            "cell_type": "code",
            "execution_count": 24,
            "metadata": {},
            "outputs": [],
            "source": [
                "nb = MultinomialNB()"
            ]
        },
        {
            "cell_type": "code",
            "execution_count": 25,
            "metadata": {},
            "outputs": [
                {
                    "data": {
                        "text/html": [
                            "<style>#sk-container-id-1 {color: black;background-color: white;}#sk-container-id-1 pre{padding: 0;}#sk-container-id-1 div.sk-toggleable {background-color: white;}#sk-container-id-1 label.sk-toggleable__label {cursor: pointer;display: block;width: 100%;margin-bottom: 0;padding: 0.3em;box-sizing: border-box;text-align: center;}#sk-container-id-1 label.sk-toggleable__label-arrow:before {content: \"▸\";float: left;margin-right: 0.25em;color: #696969;}#sk-container-id-1 label.sk-toggleable__label-arrow:hover:before {color: black;}#sk-container-id-1 div.sk-estimator:hover label.sk-toggleable__label-arrow:before {color: black;}#sk-container-id-1 div.sk-toggleable__content {max-height: 0;max-width: 0;overflow: hidden;text-align: left;background-color: #f0f8ff;}#sk-container-id-1 div.sk-toggleable__content pre {margin: 0.2em;color: black;border-radius: 0.25em;background-color: #f0f8ff;}#sk-container-id-1 input.sk-toggleable__control:checked~div.sk-toggleable__content {max-height: 200px;max-width: 100%;overflow: auto;}#sk-container-id-1 input.sk-toggleable__control:checked~label.sk-toggleable__label-arrow:before {content: \"▾\";}#sk-container-id-1 div.sk-estimator input.sk-toggleable__control:checked~label.sk-toggleable__label {background-color: #d4ebff;}#sk-container-id-1 div.sk-label input.sk-toggleable__control:checked~label.sk-toggleable__label {background-color: #d4ebff;}#sk-container-id-1 input.sk-hidden--visually {border: 0;clip: rect(1px 1px 1px 1px);clip: rect(1px, 1px, 1px, 1px);height: 1px;margin: -1px;overflow: hidden;padding: 0;position: absolute;width: 1px;}#sk-container-id-1 div.sk-estimator {font-family: monospace;background-color: #f0f8ff;border: 1px dotted black;border-radius: 0.25em;box-sizing: border-box;margin-bottom: 0.5em;}#sk-container-id-1 div.sk-estimator:hover {background-color: #d4ebff;}#sk-container-id-1 div.sk-parallel-item::after {content: \"\";width: 100%;border-bottom: 1px solid gray;flex-grow: 1;}#sk-container-id-1 div.sk-label:hover label.sk-toggleable__label {background-color: #d4ebff;}#sk-container-id-1 div.sk-serial::before {content: \"\";position: absolute;border-left: 1px solid gray;box-sizing: border-box;top: 0;bottom: 0;left: 50%;z-index: 0;}#sk-container-id-1 div.sk-serial {display: flex;flex-direction: column;align-items: center;background-color: white;padding-right: 0.2em;padding-left: 0.2em;position: relative;}#sk-container-id-1 div.sk-item {position: relative;z-index: 1;}#sk-container-id-1 div.sk-parallel {display: flex;align-items: stretch;justify-content: center;background-color: white;position: relative;}#sk-container-id-1 div.sk-item::before, #sk-container-id-1 div.sk-parallel-item::before {content: \"\";position: absolute;border-left: 1px solid gray;box-sizing: border-box;top: 0;bottom: 0;left: 50%;z-index: -1;}#sk-container-id-1 div.sk-parallel-item {display: flex;flex-direction: column;z-index: 1;position: relative;background-color: white;}#sk-container-id-1 div.sk-parallel-item:first-child::after {align-self: flex-end;width: 50%;}#sk-container-id-1 div.sk-parallel-item:last-child::after {align-self: flex-start;width: 50%;}#sk-container-id-1 div.sk-parallel-item:only-child::after {width: 0;}#sk-container-id-1 div.sk-dashed-wrapped {border: 1px dashed gray;margin: 0 0.4em 0.5em 0.4em;box-sizing: border-box;padding-bottom: 0.4em;background-color: white;}#sk-container-id-1 div.sk-label label {font-family: monospace;font-weight: bold;display: inline-block;line-height: 1.2em;}#sk-container-id-1 div.sk-label-container {text-align: center;}#sk-container-id-1 div.sk-container {/* jupyter's `normalize.less` sets `[hidden] { display: none; }` but bootstrap.min.css set `[hidden] { display: none !important; }` so we also need the `!important` here to be able to override the default hidden behavior on the sphinx rendered scikit-learn.org. See: https://github.com/scikit-learn/scikit-learn/issues/21755 */display: inline-block !important;position: relative;}#sk-container-id-1 div.sk-text-repr-fallback {display: none;}</style><div id=\"sk-container-id-1\" class=\"sk-top-container\"><div class=\"sk-text-repr-fallback\"><pre>MultinomialNB()</pre><b>In a Jupyter environment, please rerun this cell to show the HTML representation or trust the notebook. <br />On GitHub, the HTML representation is unable to render, please try loading this page with nbviewer.org.</b></div><div class=\"sk-container\" hidden><div class=\"sk-item\"><div class=\"sk-estimator sk-toggleable\"><input class=\"sk-toggleable__control sk-hidden--visually\" id=\"sk-estimator-id-1\" type=\"checkbox\" checked><label for=\"sk-estimator-id-1\" class=\"sk-toggleable__label sk-toggleable__label-arrow\">MultinomialNB</label><div class=\"sk-toggleable__content\"><pre>MultinomialNB()</pre></div></div></div></div></div>"
                        ],
                        "text/plain": [
                            "MultinomialNB()"
                        ]
                    },
                    "execution_count": 25,
                    "metadata": {},
                    "output_type": "execute_result"
                }
            ],
            "source": [
                "nb.fit(X_train, y_train)"
            ]
        },
        {
            "cell_type": "code",
            "execution_count": 26,
            "metadata": {},
            "outputs": [
                {
                    "name": "stdout",
                    "output_type": "stream",
                    "text": [
                        "              precision    recall  f1-score   support\n",
                        "\n",
                        "           0       0.96      0.98      0.97      1593\n",
                        "           1       0.82      0.69      0.75       183\n",
                        "\n",
                        "    accuracy                           0.95      1776\n",
                        "   macro avg       0.89      0.84      0.86      1776\n",
                        "weighted avg       0.95      0.95      0.95      1776\n",
                        "\n"
                    ]
                }
            ],
            "source": [
                "predictions = nb.predict(X_train)\n",
                "print(classification_report(y_train, predictions))"
            ]
        },
        {
            "cell_type": "code",
            "execution_count": 27,
            "metadata": {},
            "outputs": [
                {
                    "name": "stdout",
                    "output_type": "stream",
                    "text": [
                        "              precision    recall  f1-score   support\n",
                        "\n",
                        "           0       0.94      0.99      0.97       532\n",
                        "           1       0.87      0.44      0.59        61\n",
                        "\n",
                        "    accuracy                           0.94       593\n",
                        "   macro avg       0.91      0.72      0.78       593\n",
                        "weighted avg       0.93      0.94      0.93       593\n",
                        "\n"
                    ]
                }
            ],
            "source": [
                "predictions = nb.predict(X_test)\n",
                "print(classification_report(y_test, predictions))"
            ]
        },
        {
            "cell_type": "code",
            "execution_count": 28,
            "metadata": {},
            "outputs": [],
            "source": [
                "message_vectorizer = CountVectorizer().fit_transform(df['url'])\n",
                "\n",
                "X_train, X_test, y_train, y_test = train_test_split(message_vectorizer, df['is_spam'], test_size = 0.2, random_state = 121, shuffle = True)"
            ]
        },
        {
            "cell_type": "code",
            "execution_count": 29,
            "metadata": {},
            "outputs": [],
            "source": [
                "cl = svm.SVC(C=1.0, kernel='linear', degree=4, gamma='auto')"
            ]
        },
        {
            "cell_type": "code",
            "execution_count": 30,
            "metadata": {},
            "outputs": [
                {
                    "name": "stdout",
                    "output_type": "stream",
                    "text": [
                        "              precision    recall  f1-score   support\n",
                        "\n",
                        "           0       1.00      1.00      1.00      1701\n",
                        "           1       1.00      0.98      0.99       194\n",
                        "\n",
                        "    accuracy                           1.00      1895\n",
                        "   macro avg       1.00      0.99      0.99      1895\n",
                        "weighted avg       1.00      1.00      1.00      1895\n",
                        "\n"
                    ]
                }
            ],
            "source": [
                "cl.fit(X_train, y_train)\n",
                "\n",
                "pred = cl.predict(X_train)\n",
                "print(classification_report(y_train, pred))"
            ]
        },
        {
            "cell_type": "code",
            "execution_count": 31,
            "metadata": {},
            "outputs": [
                {
                    "name": "stdout",
                    "output_type": "stream",
                    "text": [
                        "              precision    recall  f1-score   support\n",
                        "\n",
                        "           0       0.96      0.97      0.97       424\n",
                        "           1       0.74      0.70      0.72        50\n",
                        "\n",
                        "    accuracy                           0.94       474\n",
                        "   macro avg       0.85      0.84      0.84       474\n",
                        "weighted avg       0.94      0.94      0.94       474\n",
                        "\n"
                    ]
                }
            ],
            "source": [
                "pred = cl.predict(X_test)\n",
                "print(classification_report(y_test, pred))"
            ]
        },
        {
            "cell_type": "code",
            "execution_count": 32,
            "metadata": {},
            "outputs": [],
            "source": [
                "pickle.dump(cl, open('../models/nlp_model.pkl', 'wb'))"
            ]
        },
        {
            "cell_type": "code",
            "execution_count": null,
            "metadata": {},
            "outputs": [],
            "source": []
        }
    ],
    "metadata": {
        "kernelspec": {
            "display_name": "Python 3.8.13 64-bit ('3.8.13')",
            "language": "python",
            "name": "python3"
        },
        "language_info": {
            "codemirror_mode": {
                "name": "ipython",
                "version": 3
            },
            "file_extension": ".py",
            "mimetype": "text/x-python",
            "name": "python",
            "nbconvert_exporter": "python",
            "pygments_lexer": "ipython3",
            "version": "3.8.13"
        },
        "orig_nbformat": 4,
        "vscode": {
            "interpreter": {
                "hash": "110cc1dee26208153f2972f08a2ad52b6a56238dc66d48e87fb757ef2996db56"
            }
        }
    },
    "nbformat": 4,
    "nbformat_minor": 2
}
